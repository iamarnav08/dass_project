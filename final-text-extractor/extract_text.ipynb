{
 "cells": [
  {
   "cell_type": "code",
   "execution_count": null,
   "metadata": {},
   "outputs": [],
   "source": [
    "import os\n",
    "import glob\n",
    "import pandas as pd\n",
    "import subprocess\n",
    "\n",
    "pdf_files = glob.glob(os.path.join(\"../NCERT\", \"**/*.pdf\"), recursive=True)\n",
    "print(f\"Found {len(pdf_files)} PDF files to process\")\n",
    "\n",
    "# Create output directory if it doesn't exist\n",
    "output_dir = \"extracted-text\"\n",
    "os.makedirs(output_dir, exist_ok=True)\n",
    "\n",
    "for file_path in pdf_files:\n",
    "    print(f\"Processing file: {file_path}\")\n",
    "    \n",
    "    # Run marker-single command with Ollama as LLM service\n",
    "    cmd = [\n",
    "        \"marker_single\", \n",
    "        file_path, \n",
    "        \"--output_dir\",\n",
    "        output_dir,\n",
    "        # \"--use_llm\",\n",
    "        # \"--llm_service=marker.services.ollama.OllamaService\"\n",
    "    ]\n",
    "    \n",
    "    try:\n",
    "        subprocess.run(cmd, check=True)\n",
    "        print(f\"Successfully processed: {file_path}\")\n",
    "    except subprocess.CalledProcessError as e:\n",
    "        print(f\"Error processing {file_path}: {e}\")\n",
    "\n",
    "print(\"Finished processing all PDF files\")\n"
   ]
  }
 ],
 "metadata": {
  "kernelspec": {
   "display_name": ".venv",
   "language": "python",
   "name": "python3"
  },
  "language_info": {
   "codemirror_mode": {
    "name": "ipython",
    "version": 3
   },
   "file_extension": ".py",
   "mimetype": "text/x-python",
   "name": "python",
   "nbconvert_exporter": "python",
   "pygments_lexer": "ipython3",
   "version": "3.12.3"
  }
 },
 "nbformat": 4,
 "nbformat_minor": 2
}
